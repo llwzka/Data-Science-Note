{
 "cells": [
  {
   "cell_type": "markdown",
   "metadata": {},
   "source": [
    "- [OneHotEncoder](http://scikit-learn.org/stable/modules/generated/sklearn.preprocessing.OneHotEncoder.html#sklearn.preprocessing.OneHotEncoder)\n",
    "- [DictVectorizer](http://scikit-learn.org/stable/modules/generated/sklearn.feature_extraction.DictVectorizer.html#sklearn.feature_extraction.DictVectorizer)\n",
    "- [FeatureHasher](http://scikit-learn.org/stable/modules/generated/sklearn.feature_extraction.FeatureHasher.html#sklearn.feature_extraction.FeatureHasher)"
   ]
  },
  {
   "cell_type": "code",
   "execution_count": 1,
   "metadata": {},
   "outputs": [],
   "source": [
    "from sklearn.preprocessing import OneHotEncoder\n",
    "from sklearn.feature_extraction import DictVectorizer,FeatureHasher\n",
    "import numpy as np"
   ]
  },
  {
   "cell_type": "code",
   "execution_count": 11,
   "metadata": {},
   "outputs": [
    {
     "name": "stdout",
     "output_type": "stream",
     "text": [
      "[[0. 1. 0. 1. 0. 1. 0.]\n",
      " [1. 0. 0. 1. 0. 0. 1.]\n",
      " [0. 0. 1. 0. 1. 1. 0.]]\n"
     ]
    }
   ],
   "source": [
    "# lolfish 1\n",
    "data=np.array([[1,0,3.25],\n",
    "               [0,0,5.2],\n",
    "               [2,1,3.6]])\n",
    "enc=OneHotEncoder(categorical_features=np.array([0,1,2]))\n",
    "enc.fit(data)\n",
    "data=enc.transform(data).toarray()\n",
    "print(data)"
   ]
  },
  {
   "cell_type": "code",
   "execution_count": 5,
   "metadata": {},
   "outputs": [
    {
     "name": "stdout",
     "output_type": "stream",
     "text": [
      "[[1. 0. 0. 1. 0. 0. 0. 0. 1.]]\n"
     ]
    }
   ],
   "source": [
    "# lolfish 2\n",
    "# -*- coding: utf-8 -*-\n",
    "\n",
    "from sklearn.preprocessing import  OneHotEncoder\n",
    "\n",
    "enc = OneHotEncoder()\n",
    "enc.fit([[0, 0, 3],\n",
    "         [1, 1, 0],\n",
    "         [0, 2, 1],\n",
    "         [1, 0, 2]])\n",
    "ans = enc.transform([[0, 1, 3]]).toarray()# 如果不加 toarray() 的话，输出的是稀疏的存储格式，即索引加值的形式，也可以通过参数指定 sparse = False 来达到同样的效果\n",
    "print(ans) # 输出 [[ 1.  0.  0.  1.  0.  0.  0.  0.  1.]]"
   ]
  },
  {
   "cell_type": "code",
   "execution_count": 2,
   "metadata": {},
   "outputs": [
    {
     "name": "stdout",
     "output_type": "stream",
     "text": [
      "[[0 0 3]\n",
      " [1 1 0]\n",
      " [0 2 1]\n",
      " [1 0 2]]\n",
      "[2 3 4]\n"
     ]
    }
   ],
   "source": [
    "enc = OneHotEncoder()\n",
    "enc.fit([[0, 0, 3], [1, 1, 0], [0, 2, 1], [1, 0, 2],[1,1,1]]) \n",
    "a=np.array([[0, 0, 3], [1, 1, 0], [0, 2, 1], [1, 0, 2]])\n",
    "print(a)\n",
    "# 基于列进行编码\n",
    "print(enc.n_values_)"
   ]
  },
  {
   "cell_type": "code",
   "execution_count": 3,
   "metadata": {},
   "outputs": [
    {
     "data": {
      "text/plain": [
       "array([[ 1.,  0.,  0.,  1.,  0.,  0.,  0.,  0.,  1.]])"
      ]
     },
     "execution_count": 3,
     "metadata": {},
     "output_type": "execute_result"
    }
   ],
   "source": [
    "# 把0放到第一列[0,1]比对，把1放到第二列[0,1,2]比对，把3放到第三列[0,1,2，3]比对\n",
    "enc.transform([[0, 1, 3]]).toarray()"
   ]
  },
  {
   "cell_type": "code",
   "execution_count": 6,
   "metadata": {},
   "outputs": [
    {
     "name": "stdout",
     "output_type": "stream",
     "text": [
      "[[ 2.  0.  1.]\n",
      " [ 0.  2.  3.]]\n",
      "['bar', 'baz', 'foo']\n",
      "[[ 0.  0.  4.]]\n"
     ]
    }
   ],
   "source": [
    "# 将特征值映射列表转换为向量\n",
    "dv = DictVectorizer(sparse=False)\n",
    "D = [{'foo':1, 'bar':2}, {'foo':3, 'baz': 2}]\n",
    "X = dv.fit_transform(D)\n",
    "print (X)\n",
    "print (dv.get_feature_names())\n",
    "print (dv.transform({'foo':4, 'unseen':3}))"
   ]
  },
  {
   "cell_type": "code",
   "execution_count": 18,
   "metadata": {},
   "outputs": [
    {
     "data": {
      "text/plain": [
       "array([[ 0.,  0.,  4.,  1.,  0.,  0.,  0.,  0.,  0.,  2.],\n",
       "       [ 0.,  0.,  0.,  2.,  5.,  0.,  0.,  0.,  0.,  0.]])"
      ]
     },
     "execution_count": 18,
     "metadata": {},
     "output_type": "execute_result"
    }
   ],
   "source": [
    "# hash转换\n",
    "h = FeatureHasher(n_features=10,non_negative=True)\n",
    "D = [{'dog': 1, 'cat':2, 'elephant':4},{'dog': 2, 'run': 5}]\n",
    "f = h.transform(D)\n",
    "f.toarray()\n"
   ]
  },
  {
   "cell_type": "code",
   "execution_count": 12,
   "metadata": {},
   "outputs": [
    {
     "name": "stdout",
     "output_type": "stream",
     "text": [
      "[[ 1.  0.  0. 33.]\n",
      " [ 0.  1.  0. 12.]\n",
      " [ 0.  0.  1. 18.]]\n",
      "['city=Dubai', 'city=London', 'city=San Fransisco', 'temperature']\n"
     ]
    },
    {
     "data": {
      "text/plain": [
       "\"\\n['city=Dubai', 'city=London', 'city=San Fransisco', 'temperature']\\n\""
      ]
     },
     "execution_count": 12,
     "metadata": {},
     "output_type": "execute_result"
    }
   ],
   "source": [
    "# lolfish 3\n",
    "from sklearn.feature_extraction import DictVectorizer\n",
    "\n",
    "'''\n",
    "字典特征提取器：\n",
    "    将字典数据结构抽和向量化\n",
    "    类别类型特征借助原型特征名称采用0 1 二值方式进行向量化\n",
    "    数值类型特征保持不变\n",
    "'''\n",
    "\n",
    "# 定义一个字典列表 用来表示多个数据样本\n",
    "measurements = [\n",
    "    {\"city\": \"Dubai\", \"temperature\": 33.0},\n",
    "    {\"city\": \"London\", \"temperature\": 12.0},\n",
    "    {\"city\": \"San Fransisco\", \"temperature\": 18.0},\n",
    "]\n",
    "\n",
    "# 初始化字典特征抽取器\n",
    "vec = DictVectorizer()\n",
    "data = vec.fit_transform(measurements).toarray()\n",
    "# 查看提取后的特征值\n",
    "print(data)\n",
    "'''\n",
    "[[ 1.  0.  0. 33.]\n",
    " [ 0.  1.  0. 12.]\n",
    " [ 0.  0.  1. 18.]]\n",
    "'''\n",
    "# 查看提取后特征的含义\n",
    "print(vec.get_feature_names())\n",
    "'''\n",
    "['city=Dubai', 'city=London', 'city=San Fransisco', 'temperature']\n",
    "'''"
   ]
  },
  {
   "cell_type": "code",
   "execution_count": null,
   "metadata": {
    "collapsed": true
   },
   "outputs": [],
   "source": []
  }
 ],
 "metadata": {
  "anaconda-cloud": {},
  "kernelspec": {
   "display_name": "Python 3",
   "language": "python",
   "name": "python3"
  },
  "language_info": {
   "codemirror_mode": {
    "name": "ipython",
    "version": 3
   },
   "file_extension": ".py",
   "mimetype": "text/x-python",
   "name": "python",
   "nbconvert_exporter": "python",
   "pygments_lexer": "ipython3",
   "version": "3.7.0"
  }
 },
 "nbformat": 4,
 "nbformat_minor": 2
}
