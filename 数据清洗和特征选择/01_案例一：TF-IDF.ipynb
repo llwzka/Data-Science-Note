{
 "cells": [
  {
   "cell_type": "code",
   "execution_count": 1,
   "metadata": {},
   "outputs": [],
   "source": [
    "import pandas as pd\n",
    "import numpy as np\n",
    "from sklearn.feature_extraction.text import TfidfVectorizer,CountVectorizer,HashingVectorizer,TfidfTransformer"
   ]
  },
  {
   "cell_type": "code",
   "execution_count": 6,
   "metadata": {},
   "outputs": [
    {
     "name": "stdout",
     "output_type": "stream",
     "text": [
      "  (0, 4)\t0.4424621378947393\n",
      "  (0, 15)\t0.697684463383976\n",
      "  (0, 3)\t0.348842231691988\n",
      "  (0, 16)\t0.4424621378947393\n",
      "  (1, 3)\t0.3574550433419527\n",
      "  (1, 14)\t0.45338639737285463\n",
      "  (1, 6)\t0.3574550433419527\n",
      "  (1, 2)\t0.45338639737285463\n",
      "  (1, 9)\t0.45338639737285463\n",
      "  (1, 5)\t0.3574550433419527\n",
      "  (2, 7)\t0.5\n",
      "  (2, 12)\t0.5\n",
      "  (2, 0)\t0.5\n",
      "  (2, 1)\t0.5\n",
      "  (3, 15)\t0.2811316284405006\n",
      "  (3, 6)\t0.2811316284405006\n",
      "  (3, 5)\t0.2811316284405006\n",
      "  (3, 13)\t0.3565798233381452\n",
      "  (3, 17)\t0.3565798233381452\n",
      "  (3, 18)\t0.3565798233381452\n",
      "  (3, 11)\t0.3565798233381452\n",
      "  (3, 8)\t0.3565798233381452\n",
      "  (3, 10)\t0.3565798233381452\n",
      "['and', 'apple', 'car', 'china', 'come', 'in', 'is', 'love', 'papers', 'polupar', 'science', 'some', 'tea', 'the', 'this', 'to', 'travel', 'work', 'write']\n"
     ]
    }
   ],
   "source": [
    "# lolfish\n",
    "corpus=[\"I come to China to travel\", \n",
    "    \"This is a car polupar in China\",          \n",
    "    \"I love tea and Apple \",   \n",
    "    \"The work is to write some papers in science\"] \n",
    "tfidf2 = TfidfVectorizer()\n",
    "re = tfidf2.fit_transform(corpus)\n",
    "\n",
    "print(re)\n",
    "print(tfidf2.get_feature_names())"
   ]
  },
  {
   "cell_type": "code",
   "execution_count": 2,
   "metadata": {},
   "outputs": [],
   "source": [
    "arr1 = [\n",
    "    \"This is spark, spark sql a every good\",\n",
    "    \"Spark Hadoop Hbase\",\n",
    "    \"This is sample\",\n",
    "    \"This is anthor example anthor example\",\n",
    "    \"spark hbase hadoop spark hive hbase hue oozie\",\n",
    "    \"hue oozie spark\"\n",
    "]\n",
    "arr2 = [\n",
    "    \"this is a sample a example\",\n",
    "    \"this c c cd is another another sample example example\",\n",
    "    \"spark Hbase hadoop Spark hive hbase\"\n",
    "]\n",
    "df = arr2"
   ]
  },
  {
   "cell_type": "code",
   "execution_count": 3,
   "metadata": {},
   "outputs": [
    {
     "name": "stdout",
     "output_type": "stream",
     "text": [
      "[[ 0.          0.          0.5         0.          0.          0.          0.5\n",
      "   0.5         0.          0.5       ]\n",
      " [ 0.66486672  0.33243336  0.50564828  0.          0.          0.\n",
      "   0.25282414  0.25282414  0.          0.25282414]\n",
      " [ 0.          0.          0.          0.31622777  0.63245553  0.31622777\n",
      "   0.          0.          0.63245553  0.        ]]\n",
      "['another', 'cd', 'example', 'hadoop', 'hbase', 'hive', 'is', 'sample', 'spark', 'this']\n",
      "None\n",
      "转换另外的文档数据\n",
      "[[ 0.          0.          0.          0.          0.          0.\n",
      "   0.3349067   0.          0.88072413  0.3349067 ]\n",
      " [ 0.          0.          0.          0.57735027  0.57735027  0.          0.\n",
      "   0.          0.57735027  0.        ]\n",
      " [ 0.          0.          0.          0.          0.          0.\n",
      "   0.57735027  0.57735027  0.          0.57735027]\n",
      " [ 0.          0.          0.81649658  0.          0.          0.\n",
      "   0.40824829  0.          0.          0.40824829]\n",
      " [ 0.          0.          0.          0.31622777  0.63245553  0.31622777\n",
      "   0.          0.          0.63245553  0.        ]\n",
      " [ 0.          0.          0.          0.          0.          0.          0.\n",
      "   0.          1.          0.        ]]\n"
     ]
    }
   ],
   "source": [
    "tfidf = TfidfVectorizer(min_df=0, dtype=np.float64)\n",
    "df2 = tfidf.fit_transform(df)\n",
    "print (df2.toarray())\n",
    "print (tfidf.get_feature_names())\n",
    "print (tfidf.get_stop_words())\n",
    "print (\"转换另外的文档数据\")\n",
    "print (tfidf.transform(arr1).toarray())"
   ]
  },
  {
   "cell_type": "code",
   "execution_count": 4,
   "metadata": {},
   "outputs": [
    {
     "name": "stdout",
     "output_type": "stream",
     "text": [
      "[[ 0.  1.  1.  0.  0.  0.  0.  1.  0.  1.]\n",
      " [ 0.  1.  1.  0.  1.  0.  2.  1.  0.  2.]\n",
      " [ 1.  2.  0.  0.  0.  0.  2.  0.  1.  0.]]\n",
      "None\n",
      "转换另外的文档数据\n",
      "[[ 0.  2.  0.  0.  0.  0.  0.  1.  1.  1.]\n",
      " [ 0.  1.  0.  0.  0.  0.  1.  0.  1.  0.]\n",
      " [ 0.  1.  1.  0.  0.  0.  0.  1.  0.  0.]\n",
      " [ 0.  0.  1.  0.  2.  0.  0.  1.  0.  2.]\n",
      " [ 1.  2.  0.  0.  1.  0.  1.  0.  1.  0.]\n",
      " [ 0.  1.  0.  0.  1.  0.  1.  0.  0.  0.]]\n"
     ]
    }
   ],
   "source": [
    "hashing = HashingVectorizer(n_features=10, non_negative=True, norm=None)\n",
    "df3 = hashing.fit_transform(df)\n",
    "print (df3.toarray())\n",
    "print (hashing.get_stop_words())\n",
    "print (\"转换另外的文档数据\")\n",
    "print (hashing.transform(arr1).toarray())"
   ]
  },
  {
   "cell_type": "code",
   "execution_count": 5,
   "metadata": {},
   "outputs": [
    {
     "name": "stdout",
     "output_type": "stream",
     "text": [
      "[[ 0.  0.  1.  0.  0.  0.  1.  1.  0.  1.]\n",
      " [ 2.  1.  2.  0.  0.  0.  1.  1.  0.  1.]\n",
      " [ 0.  0.  0.  1.  2.  1.  0.  0.  2.  0.]]\n",
      "None\n",
      "['another', 'cd', 'example', 'hadoop', 'hbase', 'hive', 'is', 'sample', 'spark', 'this']\n",
      "转换另外的文档数据\n",
      "[[ 0.  0.  0.  0.  0.  0.  1.  0.  2.  1.]\n",
      " [ 0.  0.  0.  1.  1.  0.  0.  0.  1.  0.]\n",
      " [ 0.  0.  0.  0.  0.  0.  1.  1.  0.  1.]\n",
      " [ 0.  0.  2.  0.  0.  0.  1.  0.  0.  1.]\n",
      " [ 0.  0.  0.  1.  2.  1.  0.  0.  2.  0.]\n",
      " [ 0.  0.  0.  0.  0.  0.  0.  0.  1.  0.]]\n"
     ]
    }
   ],
   "source": [
    "count = CountVectorizer(min_df=0.1, dtype=np.float64, ngram_range=(0,1))\n",
    "df4 = count.fit_transform(df)\n",
    "print (df4.toarray())\n",
    "print (count.get_stop_words())\n",
    "print (count.get_feature_names())\n",
    "print (\"转换另外的文档数据\")\n",
    "print (count.transform(arr1).toarray())"
   ]
  },
  {
   "cell_type": "code",
   "execution_count": 6,
   "metadata": {},
   "outputs": [
    {
     "name": "stdout",
     "output_type": "stream",
     "text": [
      "[[ 0.          0.          0.5         0.          0.          0.          0.5\n",
      "   0.5         0.          0.5       ]\n",
      " [ 0.66486672  0.33243336  0.50564828  0.          0.          0.\n",
      "   0.25282414  0.25282414  0.          0.25282414]\n",
      " [ 0.          0.          0.          0.31622777  0.63245553  0.31622777\n",
      "   0.          0.          0.63245553  0.        ]]\n",
      "转换另外的文档数据\n",
      "[[ 0.          0.          0.          0.          0.          0.\n",
      "   0.3349067   0.          0.88072413  0.3349067 ]\n",
      " [ 0.          0.          0.          0.57735027  0.57735027  0.          0.\n",
      "   0.          0.57735027  0.        ]\n",
      " [ 0.          0.          0.          0.          0.          0.\n",
      "   0.57735027  0.57735027  0.          0.57735027]\n",
      " [ 0.          0.          0.81649658  0.          0.          0.\n",
      "   0.40824829  0.          0.          0.40824829]\n",
      " [ 0.          0.          0.          0.31622777  0.63245553  0.31622777\n",
      "   0.          0.          0.63245553  0.        ]\n",
      " [ 0.          0.          0.          0.          0.          0.          0.\n",
      "   0.          1.          0.        ]]\n"
     ]
    }
   ],
   "source": [
    "tfidf2 = TfidfTransformer()\n",
    "df5 = tfidf2.fit_transform(df4)\n",
    "print (df5.toarray())\n",
    "print (\"转换另外的文档数据\")\n",
    "print (tfidf2.transform(count.transform(arr1)).toarray())"
   ]
  },
  {
   "cell_type": "code",
   "execution_count": 7,
   "metadata": {},
   "outputs": [],
   "source": [
    "dataset = [['my', 'dog', 'dog', 'has', 'flea', 'problems', 'help', 'please'],\n",
    "         ['maybe', 'not', 'take', 'him', 'to', 'dog', 'park', 'stupid'],\n",
    "         ['my', 'dalmation', 'is', 'so', 'cute', 'I', 'love', 'him'],\n",
    "         ['stop', 'posting', 'stupid', 'worthless', 'garbage'],\n",
    "         ['mr', 'licks', 'ate', 'my', 'steak', 'how', 'to', 'stop', 'him'],\n",
    "         ['quit','worthless', 'buying', 'worthless', 'dog', 'food', 'stupid']]\n",
    "vocabSet = set()\n",
    "for doc in dataset:\n",
    "    vocabSet |= set(doc)\n",
    "vocabList = list(vocabSet)"
   ]
  },
  {
   "cell_type": "code",
   "execution_count": 8,
   "metadata": {},
   "outputs": [],
   "source": [
    "SOW = []\n",
    "for doc in dataset:\n",
    "    vec = [0]*len(vocabList)\n",
    "    for i, word in enumerate(vocabList):\n",
    "        if word in doc:\n",
    "            vec[i] = 1\n",
    "    SOW.append(vec) \n",
    "\n",
    "# 词袋模型\n",
    "BOW = []\n",
    "for doc in dataset:\n",
    "    vec = [0]*len(vocabList)\n",
    "    for word in doc:\n",
    "        vec[vocabList.index(word)] += 1\n",
    "    BOW.append(vec)"
   ]
  },
  {
   "cell_type": "code",
   "execution_count": 9,
   "metadata": {},
   "outputs": [
    {
     "name": "stdout",
     "output_type": "stream",
     "text": [
      "词袋法以及词集法\n",
      "[[0 0 0 0 0 0 0 1 1 0 1 1 1 0 0 0 1 0 0 1 0 0 0 0 0 0 0 0 0 0 0 0]\n",
      " [0 0 0 0 0 1 0 0 0 1 0 1 0 0 0 0 0 0 0 0 1 1 1 1 0 0 0 0 0 0 0 1]\n",
      " [0 1 1 0 0 1 0 0 0 0 0 0 0 0 0 1 0 1 0 1 0 0 0 0 0 0 0 1 0 0 1 0]\n",
      " [1 0 0 0 1 0 0 0 0 1 0 0 0 1 0 0 0 0 0 0 0 0 0 0 1 0 0 0 0 0 0 0]\n",
      " [1 0 0 1 0 1 1 0 0 0 0 0 0 0 1 0 0 0 1 1 1 0 0 0 0 0 0 0 1 0 0 0]\n",
      " [0 0 0 0 1 0 0 0 0 1 0 1 0 0 0 0 0 0 0 0 0 0 0 0 0 1 1 0 0 1 0 0]]\n",
      "[[0 0 0 0 0 0 0 1 1 0 1 2 1 0 0 0 1 0 0 1 0 0 0 0 0 0 0 0 0 0 0 0]\n",
      " [0 0 0 0 0 1 0 0 0 1 0 1 0 0 0 0 0 0 0 0 1 1 1 1 0 0 0 0 0 0 0 1]\n",
      " [0 1 1 0 0 1 0 0 0 0 0 0 0 0 0 1 0 1 0 1 0 0 0 0 0 0 0 1 0 0 1 0]\n",
      " [1 0 0 0 1 0 0 0 0 1 0 0 0 1 0 0 0 0 0 0 0 0 0 0 1 0 0 0 0 0 0 0]\n",
      " [1 0 0 1 0 1 1 0 0 0 0 0 0 0 1 0 0 0 1 1 1 0 0 0 0 0 0 0 1 0 0 0]\n",
      " [0 0 0 0 2 0 0 0 0 1 0 1 0 0 0 0 0 0 0 0 0 0 0 0 0 1 1 0 0 1 0 0]]\n"
     ]
    }
   ],
   "source": [
    "print (\"词袋法以及词集法\")\n",
    "print (np.array(SOW))\n",
    "print (np.array(BOW))"
   ]
  }
 ],
 "metadata": {
  "kernelspec": {
   "display_name": "Python 3",
   "language": "python",
   "name": "python3"
  },
  "language_info": {
   "codemirror_mode": {
    "name": "ipython",
    "version": 3
   },
   "file_extension": ".py",
   "mimetype": "text/x-python",
   "name": "python",
   "nbconvert_exporter": "python",
   "pygments_lexer": "ipython3",
   "version": "3.7.0"
  }
 },
 "nbformat": 4,
 "nbformat_minor": 2
}
